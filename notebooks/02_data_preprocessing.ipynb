{
 "cells": [
  {
   "cell_type": "code",
   "execution_count": 2,
   "metadata": {},
   "outputs": [],
   "source": [
    "import pandas as pd\n",
    "import numpy as np\n",
    "from sklearn.preprocessing import StandardScaler, LabelEncoder\n",
    "from imblearn.over_sampling import SMOTE\n",
    "from imblearn.under_sampling import RandomUnderSampler\n",
    "from imblearn.pipeline import Pipeline\n",
    "import warnings\n",
    "warnings.filterwarnings('ignore')"
   ]
  },
  {
   "cell_type": "code",
   "execution_count": 3,
   "metadata": {},
   "outputs": [
    {
     "name": "stdout",
     "output_type": "stream",
     "text": [
      "=== Loading Dataset ===\n",
      "Shape awal dataset: (5110, 12)\n"
     ]
    }
   ],
   "source": [
    "# 1. Load Dataset\n",
    "print(\"=== Loading Dataset ===\")\n",
    "df = pd.read_csv('../data/raw/healthcare-dataset-stroke-data.csv')\n",
    "print(\"Shape awal dataset:\", df.shape)"
   ]
  },
  {
   "cell_type": "code",
   "execution_count": 4,
   "metadata": {},
   "outputs": [
    {
     "name": "stdout",
     "output_type": "stream",
     "text": [
      "\n",
      "=== Handling Missing Values ===\n",
      "Missing values sebelum preprocessing:\n",
      "id                     0\n",
      "gender                 0\n",
      "age                    0\n",
      "hypertension           0\n",
      "heart_disease          0\n",
      "ever_married           0\n",
      "work_type              0\n",
      "Residence_type         0\n",
      "avg_glucose_level      0\n",
      "bmi                  201\n",
      "smoking_status         0\n",
      "stroke                 0\n",
      "dtype: int64\n",
      "\n",
      "Missing values setelah preprocessing:\n",
      "id                   0\n",
      "gender               0\n",
      "age                  0\n",
      "hypertension         0\n",
      "heart_disease        0\n",
      "ever_married         0\n",
      "work_type            0\n",
      "Residence_type       0\n",
      "avg_glucose_level    0\n",
      "bmi                  0\n",
      "smoking_status       0\n",
      "stroke               0\n",
      "dtype: int64\n"
     ]
    }
   ],
   "source": [
    "# 2. Handling Missing Values\n",
    "print(\"\\n=== Handling Missing Values ===\")\n",
    "# Cek missing values\n",
    "print(\"Missing values sebelum preprocessing:\")\n",
    "print(df.isnull().sum())\n",
    "\n",
    "# Isi missing values di BMI dengan median sesuai gender\n",
    "df['bmi'] = df.groupby('gender')['bmi'].transform(lambda x: x.fillna(x.median()))\n",
    "\n",
    "print(\"\\nMissing values setelah preprocessing:\")\n",
    "print(df.isnull().sum())"
   ]
  },
  {
   "cell_type": "code",
   "execution_count": 5,
   "metadata": {},
   "outputs": [
    {
     "name": "stdout",
     "output_type": "stream",
     "text": [
      "\n",
      "=== Handling Outliers ===\n",
      "Outliers in age have been handled\n",
      "Outliers in avg_glucose_level have been handled\n",
      "Outliers in bmi have been handled\n"
     ]
    }
   ],
   "source": [
    "# 3. Handling Outliers dengan IQR method\n",
    "print(\"\\n=== Handling Outliers ===\")\n",
    "def handle_outliers(df, column):\n",
    "    Q1 = df[column].quantile(0.25)\n",
    "    Q3 = df[column].quantile(0.75)\n",
    "    IQR = Q3 - Q1\n",
    "    lower_bound = Q1 - 1.5 * IQR\n",
    "    upper_bound = Q3 + 1.5 * IQR\n",
    "    \n",
    "    # Cap the outliers\n",
    "    df[column] = np.where(df[column] > upper_bound, upper_bound,\n",
    "                         np.where(df[column] < lower_bound, lower_bound, df[column]))\n",
    "    return df\n",
    "\n",
    "# Handle outliers untuk kolom numerik\n",
    "numeric_columns = ['age', 'avg_glucose_level', 'bmi']\n",
    "for col in numeric_columns:\n",
    "    df = handle_outliers(df, col)\n",
    "    print(f\"Outliers in {col} have been handled\")"
   ]
  },
  {
   "cell_type": "code",
   "execution_count": 6,
   "metadata": {},
   "outputs": [
    {
     "name": "stdout",
     "output_type": "stream",
     "text": [
      "\n",
      "=== Feature Encoding ===\n",
      "Columns after encoding:\n",
      "['id', 'gender', 'age', 'hypertension', 'heart_disease', 'ever_married', 'Residence_type', 'avg_glucose_level', 'bmi', 'stroke', 'work_type_Govt_job', 'work_type_Never_worked', 'work_type_Private', 'work_type_Self-employed', 'work_type_children', 'smoking_status_Unknown', 'smoking_status_formerly smoked', 'smoking_status_never smoked', 'smoking_status_smokes']\n"
     ]
    }
   ],
   "source": [
    "# 4. Feature Encoding\n",
    "print(\"\\n=== Feature Encoding ===\")\n",
    "# Label Encoding untuk kolom binary dan ordinal\n",
    "le = LabelEncoder()\n",
    "df['gender'] = le.fit_transform(df['gender'])\n",
    "df['ever_married'] = le.fit_transform(df['ever_married'])\n",
    "df['Residence_type'] = le.fit_transform(df['Residence_type'])\n",
    "\n",
    "# One-hot encoding untuk kolom kategorikal dengan multiple values\n",
    "df = pd.get_dummies(df, columns=['work_type', 'smoking_status'])\n",
    "\n",
    "print(\"Columns after encoding:\")\n",
    "print(df.columns.tolist())"
   ]
  },
  {
   "cell_type": "code",
   "execution_count": 7,
   "metadata": {},
   "outputs": [
    {
     "name": "stdout",
     "output_type": "stream",
     "text": [
      "\n",
      "=== Feature Scaling ===\n"
     ]
    }
   ],
   "source": [
    "# 5. Feature Scaling\n",
    "print(\"\\n=== Feature Scaling ===\")\n",
    "scaler = StandardScaler()\n",
    "features_to_scale = ['age', 'avg_glucose_level', 'bmi']\n",
    "df[features_to_scale] = scaler.fit_transform(df[features_to_scale])"
   ]
  },
  {
   "cell_type": "code",
   "execution_count": 9,
   "metadata": {},
   "outputs": [
    {
     "name": "stdout",
     "output_type": "stream",
     "text": [
      "\n",
      "=== Handling Imbalanced Data ===\n",
      "Distribusi kelas sebelum resampling:\n",
      "stroke\n",
      "0    0.951272\n",
      "1    0.048728\n",
      "Name: proportion, dtype: float64\n",
      "\n",
      "Distribusi kelas setelah resampling:\n",
      "stroke\n",
      "0    0.666667\n",
      "1    0.333333\n",
      "Name: proportion, dtype: float64\n"
     ]
    }
   ],
   "source": [
    "# 6. Handling Imbalanced Data\n",
    "print(\"\\n=== Handling Imbalanced Data ===\")\n",
    "# Pisahkan features dan target\n",
    "X = df.drop(['stroke', 'id'], axis=1)\n",
    "y = df['stroke']\n",
    "\n",
    "print(\"Distribusi kelas sebelum resampling:\")\n",
    "print(pd.Series(y).value_counts(normalize=True))\n",
    "\n",
    "# Gunakan kombinasi SMOTE dan RandomUnderSampler\n",
    "sampler = Pipeline([\n",
    "    ('smote', SMOTE(sampling_strategy=0.1, random_state=42)),\n",
    "    ('under', RandomUnderSampler(sampling_strategy=0.5, random_state=42))\n",
    "])\n",
    "\n",
    "X_resampled, y_resampled = sampler.fit_resample(X, y)\n",
    "\n",
    "print(\"\\nDistribusi kelas setelah resampling:\")\n",
    "print(pd.Series(y_resampled).value_counts(normalize=True))"
   ]
  },
  {
   "cell_type": "code",
   "execution_count": 10,
   "metadata": {},
   "outputs": [
    {
     "name": "stdout",
     "output_type": "stream",
     "text": [
      "\n",
      "=== Saving Processed Data ===\n",
      "Data telah disimpan di '../data/processed/processed_stroke_data.csv'\n"
     ]
    }
   ],
   "source": [
    "# 7. Menyimpan hasil preprocessing\n",
    "print(\"\\n=== Saving Processed Data ===\")\n",
    "# Gabungkan kembali features dan target\n",
    "processed_df = pd.concat([pd.DataFrame(X_resampled, columns=X.columns),\n",
    "                         pd.Series(y_resampled, name='stroke')], axis=1)\n",
    "\n",
    "# Simpan ke file\n",
    "processed_df.to_csv('../data/processed/processed_stroke_data.csv', index=False)\n",
    "print(\"Data telah disimpan di '../data/processed/processed_stroke_data.csv'\")"
   ]
  },
  {
   "cell_type": "code",
   "execution_count": 11,
   "metadata": {},
   "outputs": [
    {
     "name": "stdout",
     "output_type": "stream",
     "text": [
      "\n",
      "=== Summary Preprocessing ===\n",
      "1. Jumlah data awal: 5110\n",
      "2. Jumlah data setelah preprocessing: 1458\n",
      "3. Jumlah features: 17\n",
      "4. Preprocessing steps yang telah dilakukan:\n",
      "   - Handling missing values\n",
      "   - Handling outliers\n",
      "   - Feature encoding\n",
      "   - Feature scaling\n",
      "   - Handling imbalanced data\n"
     ]
    }
   ],
   "source": [
    "# 8. Summary\n",
    "print(\"\\n=== Summary Preprocessing ===\")\n",
    "print(f\"1. Jumlah data awal: {len(df)}\")\n",
    "print(f\"2. Jumlah data setelah preprocessing: {len(processed_df)}\")\n",
    "print(f\"3. Jumlah features: {len(X_resampled.columns)}\")\n",
    "print(\"4. Preprocessing steps yang telah dilakukan:\")\n",
    "print(\"   - Handling missing values\")\n",
    "print(\"   - Handling outliers\")\n",
    "print(\"   - Feature encoding\")\n",
    "print(\"   - Feature scaling\")\n",
    "print(\"   - Handling imbalanced data\")"
   ]
  }
 ],
 "metadata": {
  "kernelspec": {
   "display_name": "Python 3",
   "language": "python",
   "name": "python3"
  },
  "language_info": {
   "codemirror_mode": {
    "name": "ipython",
    "version": 3
   },
   "file_extension": ".py",
   "mimetype": "text/x-python",
   "name": "python",
   "nbconvert_exporter": "python",
   "pygments_lexer": "ipython3",
   "version": "3.12.3"
  }
 },
 "nbformat": 4,
 "nbformat_minor": 2
}
